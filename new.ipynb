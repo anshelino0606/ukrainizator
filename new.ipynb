{
 "cells": [
  {
   "cell_type": "code",
   "outputs": [],
   "source": [
    "import requests\n",
    "from bs4 import BeautifulSoup\n",
    "import json"
   ],
   "metadata": {
    "collapsed": false
   },
   "id": "8c5a49fa0052482f",
   "execution_count": null
  },
  {
   "cell_type": "code",
   "outputs": [],
   "source": [
    "# Function to extract course details\n",
    "def extract_course_details(url):\n",
    "    response = requests.get(url)\n",
    "    soup = BeautifulSoup(response.content, 'html.parser')\n",
    "\n",
    "    # Extract department\n",
    "    department_tag = soup.find('span', string=\"Кафедра:\")\n",
    "    if department_tag:\n",
    "        department = department_tag.find_next('a').text.strip()\n",
    "    else:\n",
    "        department = \"Department information not available\"\n",
    "\n",
    "    # Extract lecturer\n",
    "    lecturer_info = soup.find('td', class_='lecturer')\n",
    "    if lecturer_info:\n",
    "        lecturer_link_element = lecturer_info.find('a')\n",
    "        if lecturer_link_element:  # Check if the <a> tag exists within lecturer_info\n",
    "            lecturer = lecturer_link_element.text.strip()\n",
    "            lecturer_link = lecturer_link_element['href']\n",
    "        else:\n",
    "            lecturer = \"Lecturer information not available\"\n",
    "            lecturer_link = \"No link available\"\n",
    "    else:\n",
    "        lecturer = \"Lecturer information not available\"\n",
    "        lecturer_link = \"No link available\"\n",
    "\n",
    "\n",
    "    # Extract recommended literature\n",
    "    literature_section = soup.find('section', class_='materials')\n",
    "    if literature_section:  # Check if the literature_section is not None\n",
    "        literature = [li.text.strip() for li in literature_section.find_all('li')]\n",
    "    else:\n",
    "        literature = [\"No literature information available\"]\n",
    "\n",
    "\n",
    "    return {\n",
    "        'department': department,\n",
    "        'lecturer': {\n",
    "            'name': lecturer,\n",
    "            'link': lecturer_link,\n",
    "        },\n",
    "        'recommended_literature': literature,\n",
    "    }"
   ],
   "metadata": {
    "collapsed": false
   },
   "id": "dceec0e4bc1577e9",
   "execution_count": null
  },
  {
   "cell_type": "code",
   "outputs": [],
   "source": [
    "# Main URL (replace with the actual curriculum page containing course links)\n",
    "main_url = 'https://kultart.lnu.edu.ua/academics/bachelor/curriculum-theatre-and-cinema'\n",
    "main_response = requests.get(main_url)\n",
    "main_soup = BeautifulSoup(main_response.content, 'html.parser')\n",
    "\n",
    "# Extract all course links\n",
    "course_links = [a['href'] for a in main_soup.select('td.title a') if 'course' in a['href']]\n",
    "\n",
    "# Loop through each link and extract details\n",
    "course_details = []\n",
    "for link in course_links:\n",
    "    details = extract_course_details(link)\n",
    "    details['course_link'] = link  # Add the course link to details\n",
    "    course_details.append(details)\n",
    "\n",
    "# Save to JSON\n",
    "with open('course_details.json', 'w', encoding='utf-8') as f:\n",
    "    json.dump(course_details, f, ensure_ascii=False, indent=4)"
   ],
   "metadata": {
    "collapsed": false
   },
   "id": "b7c5b7e376c9c3ce",
   "execution_count": null
  },
  {
   "cell_type": "code",
   "outputs": [],
   "source": [
    "base_url = 'https://kultart.lnu.edu.ua'\n",
    "academics_url = f'{base_url}/academics/bachelor'\n",
    "response = requests.get(academics_url)\n",
    "soup = BeautifulSoup(response.content, 'html.parser')\n",
    "\n",
    "specialties = soup.find_all('section', class_='specialization')\n",
    "specialty_links = [base_url + spec.find('h3', class_='title').find('a')['href'] for spec in specialties]"
   ],
   "metadata": {
    "collapsed": false
   },
   "id": "3d620aabb2160a39",
   "execution_count": null
  },
  {
   "cell_type": "code",
   "outputs": [],
   "source": [
    "from bs4 import BeautifulSoup\n",
    "\n",
    "# Assuming `spec` is the BeautifulSoup object for the section containing the specialty\n",
    "title_tag = [spec.find('h3', class_='title').find('a') for spec in specialties]\n",
    "specialty_name = [title.text.strip() for title in title_tag]  # This removes leading/trailing whitespace"
   ],
   "metadata": {
    "collapsed": false
   },
   "id": "d0d7d3f5dd579b9e",
   "execution_count": null
  },
  {
   "cell_type": "code",
   "outputs": [],
   "source": [
    "specialties_map = {\n",
    "    spec.find('h3', class_='title').find('a').text.strip(): base_url + spec.find('h3', class_='title').find('a')['href'] \n",
    "    for spec in specialties\n",
    "}"
   ],
   "metadata": {
    "collapsed": false
   },
   "id": "49595e77f9aab078",
   "execution_count": null
  },
  {
   "cell_type": "code",
   "outputs": [],
   "source": [
    "for index, spec_link in enumerate(specialty_links, start=1):\n",
    "    main_response = requests.get(spec_link)\n",
    "    main_soup = BeautifulSoup(main_response.content, 'html.parser')\n",
    "    \n",
    "    course_links = [a['href'] for a in main_soup.select('td.title a') if 'course' in a['href']]\n",
    "    \n",
    "    course_details = []\n",
    "    for link in course_links:\n",
    "        details = extract_course_details(link)\n",
    "        details['course_link'] = link  # Add the course link to details\n",
    "        course_details.append(details)\n",
    "\n",
    "    # Use the index as part of the filename\n",
    "    filename = f\"specialty_{index}.json\"\n",
    "    \n",
    "    with open(filename, 'w', encoding='utf-8') as f:\n",
    "        json.dump(course_details, f, ensure_ascii=False, indent=4)"
   ],
   "metadata": {
    "collapsed": false
   },
   "id": "a7e52dad6cafa72e",
   "execution_count": null
  },
  {
   "cell_type": "code",
   "outputs": [],
   "source": [
    "json_filenames = ['specialty_1.json', 'specialty_2.json', 'specialty_3.json', 'specialty_4.json','specialty_5.json', 'specialty_6.json', 'specialty_7.json']\n",
    "\n",
    "# Initialize a list or a set to store aggregated literature entries\n",
    "all_literature = list()\n",
    "\n",
    "# Iterate over each JSON file to extract literature\n",
    "for filename in json_filenames:\n",
    "    with open(filename, 'r', encoding='utf-8') as file:\n",
    "        data = json.load(file)\n",
    "        for course in data:  # Assuming each file may contain multiple courses\n",
    "            literature_entries = course.get('recommended_literature', [])\n",
    "            all_literature.append(literature_entries)  # Use update() for a set to add items"
   ],
   "metadata": {
    "collapsed": false
   },
   "id": "28d601dffd25ae65",
   "execution_count": null
  },
  {
   "cell_type": "code",
   "outputs": [],
   "source": [
    "from langdetect import detect"
   ],
   "metadata": {
    "collapsed": false
   },
   "id": "99c4a47c492d3ee2",
   "execution_count": null
  },
  {
   "cell_type": "code",
   "outputs": [],
   "source": [
    "moskowian_counts = 0\n",
    "Ukrainian_counts = 0\n",
    "entries = 0\n",
    "\n",
    "for sublist in all_literature:\n",
    "    for entry in sublist:\n",
    "        try:\n",
    "            lang = detect(entry)\n",
    "            if lang == 'uk':\n",
    "                Ukrainian_counts += 1\n",
    "            if lang == 'ru':\n",
    "                moskowian_counts += 1\n",
    "            entries += 1\n",
    "        except Exception as e:\n",
    "            continue\n"
   ],
   "metadata": {
    "collapsed": false
   },
   "id": "cc93404b96f62482",
   "execution_count": null
  },
  {
   "cell_type": "code",
   "outputs": [],
   "source": [
    "print(Ukrainian_counts, moskowian_counts)\n",
    "print(f\"Percentage of moscowian language on faculty of Culture and Arts: {round(moskowian_counts/entries * 100, 2)}\")"
   ],
   "metadata": {
    "collapsed": false
   },
   "id": "e3db233e0d9904cc",
   "execution_count": null
  },
  {
   "cell_type": "code",
   "outputs": [],
   "source": [
    "import matplotlib.pyplot as plt\n",
    "\n",
    "# Data\n",
    "languages = ['Ukrainian', 'moscowian', 'Other']\n",
    "counts = [Ukrainian_counts, moskowian_counts, entries-Ukrainian_counts-moskowian_counts]\n",
    "\n",
    "# Create a pie chart\n",
    "plt.figure(figsize=(8, 8))\n",
    "plt.pie(counts, labels=languages, autopct='%1.1f%%', startangle=140)\n",
    "plt.title('Percentage of Literature by Language on Faculty of Culture and Arts', fontsize=12)\n",
    "plt.show()"
   ],
   "metadata": {
    "collapsed": false
   },
   "id": "26d4aae7f0593185",
   "execution_count": null
  },
  {
   "cell_type": "code",
   "outputs": [],
   "source": [
    "json_filenames = ['specialty_1.json', 'specialty_2.json', 'specialty_3.json', 'specialty_4.json','specialty_5.json', 'specialty_6.json', 'specialty_7.json']\n",
    "\n",
    "json_to_list = {}\n",
    "\n",
    "language_distribution_per_specialty = {}\n",
    "\n",
    "# Loop through each filename\n",
    "for spec_filename in json_filenames:\n",
    "    # Open and load the JSON file\n",
    "    with open(spec_filename, 'r', encoding='utf-8') as file:\n",
    "        data = json.load(file)\n",
    "        \n",
    "        # Initialize a list for the current filename if not already present\n",
    "        if spec_filename not in json_to_list:\n",
    "            json_to_list[spec_filename] = []\n",
    "        \n",
    "        # Assuming each file's data is a list of courses\n",
    "        for course in data:\n",
    "            # Extract 'recommended_literature' entries\n",
    "            literature_entries = course.get('recommended_literature', [])\n",
    "            # Append these entries to the corresponding list in the dictionary\n",
    "            json_to_list[spec_filename].append(literature_entries)\n"
   ],
   "metadata": {
    "collapsed": false
   },
   "id": "15316664e55bd2c4",
   "execution_count": null
  },
  {
   "cell_type": "code",
   "outputs": [],
   "source": [
    "import json\n",
    "from langdetect import detect\n",
    "import matplotlib.pyplot as plt\n",
    "import numpy as np\n",
    "\n",
    "json_filenames = [\n",
    "    'specialty_1.json', 'specialty_2.json', 'specialty_3.json',\n",
    "    'specialty_4.json', 'specialty_5.json', 'specialty_6.json', 'specialty_7.json'\n",
    "]\n",
    "\n",
    "language_distribution_per_specialty = {}\n",
    "\n",
    "for filename in json_filenames:\n",
    "    with open(filename, 'r', encoding='utf-8') as file:\n",
    "        data = json.load(file)\n",
    "        \n",
    "        # Initialize counters for the current file\n",
    "        Ukrainian_counts, moscowian_counts, other_counts, total_entries = 0, 0, 0, 0\n",
    "        \n",
    "        for course in data:\n",
    "            literature_entries = course.get('recommended_literature', [])\n",
    "            for entry in literature_entries:\n",
    "                try:\n",
    "                    lang = detect(entry)\n",
    "                    if lang == 'uk':\n",
    "                        Ukrainian_counts += 1\n",
    "                    elif lang == 'ru':\n",
    "                        moscowian_counts += 1\n",
    "                    else:\n",
    "                        other_counts += 1\n",
    "                except Exception as e:\n",
    "                    other_counts += 1  # Count undetected languages as 'Other'\n",
    "                total_entries += 1\n",
    "        \n",
    "        # Calculate percentages and store them\n",
    "        if total_entries > 0:  # Avoid division by zero\n",
    "            ukrainian_percentage = (Ukrainian_counts / total_entries) * 100\n",
    "            moscowian_percentage = (moscowian_counts / total_entries) * 100\n",
    "            other_percentage = (other_counts / total_entries) * 100\n",
    "        else:\n",
    "            ukrainian_percentage = moscowian_percentage = other_percentage = 0\n",
    "        \n",
    "        language_distribution_per_specialty[filename] = [ukrainian_percentage, moscowian_percentage, other_percentage]\n",
    "\n",
    "# Preparing data for the plot\n",
    "specialties = list(language_distribution_per_specialty.keys())\n",
    "ukrainian_percentages = [distribution[0] for distribution in language_distribution_per_specialty.values()]\n",
    "moscowian_percentages = [distribution[1] for distribution in language_distribution_per_specialty.values()]\n",
    "other_percentages = [distribution[2] for distribution in language_distribution_per_specialty.values()]\n",
    "\n",
    "x = np.arange(len(specialties))  # the label locations\n",
    "width = 0.3  # the width of the bars\n"
   ],
   "metadata": {
    "collapsed": false
   },
   "id": "8248d48b06c763a3",
   "execution_count": null
  },
  {
   "cell_type": "code",
   "outputs": [],
   "source": [
    "import textwrap"
   ],
   "metadata": {
    "collapsed": false
   },
   "id": "6c103ec4888c9a",
   "execution_count": null
  },
  {
   "cell_type": "code",
   "outputs": [],
   "source": [
    "specialty_names_ordered = list(specialties_map.keys())\n",
    "wrapped_specialty_names = ['\\n'.join(textwrap.wrap(name, 20)) for name in specialty_names_ordered]\n",
    "\n",
    "fig, ax = plt.subplots(figsize=(14, 8))\n",
    "rects1 = ax.bar(x - width, ukrainian_percentages, width, label='Ukrainian')\n",
    "rects2 = ax.bar(x, moscowian_percentages, width, label='moscowian')\n",
    "rects3 = ax.bar(x + width, other_percentages, width, label='Other')\n",
    "\n",
    "def autolabel(rects):\n",
    "    \"\"\"Attach a text label above each bar displaying its height.\"\"\"\n",
    "    for rect in rects:\n",
    "        height = rect.get_height()\n",
    "        ax.annotate(f'{height:.1f}%',\n",
    "                    xy=(rect.get_x() + rect.get_width() / 2, height),\n",
    "                    xytext=(0, 3),  # 3 points vertical offset\n",
    "                    textcoords=\"offset points\",\n",
    "                    ha='center', va='bottom')\n",
    "\n",
    "autolabel(rects1)\n",
    "autolabel(rects2)\n",
    "autolabel(rects3)\n",
    "\n",
    "# Add some text for labels, title and custom x-axis tick labels, etc.\n",
    "ax.set_ylabel('Percentage')\n",
    "ax.set_title('Percentage of Literature by Language for Each Specialty')\n",
    "ax.set_xticks(x)\n",
    "ax.set_xticklabels(wrapped_specialty_names, rotation=45)\n",
    "ax.legend()\n",
    "\n",
    "plt.tight_layout()\n",
    "plt.show()"
   ],
   "metadata": {
    "collapsed": false
   },
   "id": "4fddf3ac793ad9dc",
   "execution_count": null
  }
 ],
 "metadata": {
  "kernelspec": {
   "display_name": "Python 3",
   "language": "python",
   "name": "python3"
  },
  "language_info": {
   "codemirror_mode": {
    "name": "ipython",
    "version": 2
   },
   "file_extension": ".py",
   "mimetype": "text/x-python",
   "name": "python",
   "nbconvert_exporter": "python",
   "pygments_lexer": "ipython2",
   "version": "2.7.6"
  }
 },
 "nbformat": 4,
 "nbformat_minor": 5
}
