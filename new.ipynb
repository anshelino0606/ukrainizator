{
 "cells": [
  {
   "cell_type": "code",
   "outputs": [],
   "source": [
    "import requests\n",
    "from bs4 import BeautifulSoup\n",
    "import json"
   ],
   "metadata": {
    "collapsed": false,
    "ExecuteTime": {
     "end_time": "2024-03-05T10:20:34.976375Z",
     "start_time": "2024-03-05T10:20:34.815564Z"
    }
   },
   "id": "8c5a49fa0052482f",
   "execution_count": 1
  },
  {
   "cell_type": "code",
   "outputs": [],
   "source": [
    "# Function to extract course details\n",
    "def extract_course_details(url):\n",
    "    response = requests.get(url)\n",
    "    soup = BeautifulSoup(response.content, 'html.parser')\n",
    "\n",
    "    # Extract department\n",
    "    department_tag = soup.find('span', string=\"Кафедра:\")\n",
    "    if department_tag:\n",
    "        department = department_tag.find_next('a').text.strip()\n",
    "    else:\n",
    "        department = \"Department information not available\"\n",
    "\n",
    "    # Extract lecturer\n",
    "    lecturer_info = soup.find('td', class_='lecturer')\n",
    "    if lecturer_info:\n",
    "        lecturer_link_element = lecturer_info.find('a')\n",
    "        if lecturer_link_element:  # Check if the <a> tag exists within lecturer_info\n",
    "            lecturer = lecturer_link_element.text.strip()\n",
    "            lecturer_link = lecturer_link_element['href']\n",
    "        else:\n",
    "            lecturer = \"Lecturer information not available\"\n",
    "            lecturer_link = \"No link available\"\n",
    "    else:\n",
    "        lecturer = \"Lecturer information not available\"\n",
    "        lecturer_link = \"No link available\"\n",
    "\n",
    "\n",
    "    # Extract recommended literature\n",
    "    literature_section = soup.find('section', class_='materials')\n",
    "    if literature_section:  # Check if the literature_section is not None\n",
    "        literature = [li.text.strip() for li in literature_section.find_all('li')]\n",
    "    else:\n",
    "        literature = [\"No literature information available\"]\n",
    "\n",
    "\n",
    "    return {\n",
    "        'department': department,\n",
    "        'lecturer': {\n",
    "            'name': lecturer,\n",
    "            'link': lecturer_link,\n",
    "        },\n",
    "        'recommended_literature': literature,\n",
    "    }"
   ],
   "metadata": {
    "collapsed": false,
    "ExecuteTime": {
     "end_time": "2024-03-05T10:33:21.672663Z",
     "start_time": "2024-03-05T10:33:21.667840Z"
    }
   },
   "id": "dceec0e4bc1577e9",
   "execution_count": 17
  },
  {
   "cell_type": "code",
   "outputs": [],
   "source": [
    "# Main URL (replace with the actual curriculum page containing course links)\n",
    "main_url = 'https://kultart.lnu.edu.ua/academics/bachelor/curriculum-theatre-and-cinema'\n",
    "main_response = requests.get(main_url)\n",
    "main_soup = BeautifulSoup(main_response.content, 'html.parser')\n",
    "\n",
    "# Extract all course links\n",
    "course_links = [a['href'] for a in main_soup.select('td.title a') if 'course' in a['href']]\n",
    "\n",
    "# Loop through each link and extract details\n",
    "course_details = []\n",
    "for link in course_links:\n",
    "    details = extract_course_details(link)\n",
    "    details['course_link'] = link  # Add the course link to details\n",
    "    course_details.append(details)\n",
    "\n",
    "# Save to JSON\n",
    "with open('course_details.json', 'w', encoding='utf-8') as f:\n",
    "    json.dump(course_details, f, ensure_ascii=False, indent=4)"
   ],
   "metadata": {
    "collapsed": false,
    "ExecuteTime": {
     "end_time": "2024-03-05T10:33:49.852400Z",
     "start_time": "2024-03-05T10:33:21.674501Z"
    }
   },
   "id": "b7c5b7e376c9c3ce",
   "execution_count": 18
  },
  {
   "cell_type": "code",
   "outputs": [],
   "source": [
    "base_url = 'https://kultart.lnu.edu.ua'\n",
    "academics_url = f'{base_url}/academics/bachelor'\n",
    "response = requests.get(academics_url)\n",
    "soup = BeautifulSoup(response.content, 'html.parser')\n",
    "\n",
    "specialties = soup.find_all('section', class_='specialization')\n",
    "specialty_links = [base_url + spec.find('h3', class_='title').find('a')['href'] for spec in specialties]"
   ],
   "metadata": {
    "collapsed": false,
    "ExecuteTime": {
     "end_time": "2024-03-05T10:28:48.994295Z",
     "start_time": "2024-03-05T10:28:48.502915Z"
    }
   },
   "id": "3d620aabb2160a39",
   "execution_count": 10
  },
  {
   "cell_type": "code",
   "outputs": [],
   "source": [
    "from bs4 import BeautifulSoup\n",
    "\n",
    "# Assuming `spec` is the BeautifulSoup object for the section containing the specialty\n",
    "title_tag = [spec.find('h3', class_='title').find('a') for spec in specialties]\n",
    "specialty_name = [title.text.strip() for title in title_tag]  # This removes leading/trailing whitespace"
   ],
   "metadata": {
    "collapsed": false,
    "ExecuteTime": {
     "end_time": "2024-03-05T10:29:55.374489Z",
     "start_time": "2024-03-05T10:29:55.371128Z"
    }
   },
   "id": "d0d7d3f5dd579b9e",
   "execution_count": 13
  },
  {
   "cell_type": "code",
   "outputs": [],
   "source": [
    "specialties_map = {\n",
    "    spec.find('h3', class_='title').find('a').text.strip(): base_url + spec.find('h3', class_='title').find('a')['href'] \n",
    "    for spec in specialties\n",
    "}"
   ],
   "metadata": {
    "collapsed": false,
    "ExecuteTime": {
     "end_time": "2024-03-05T10:29:56.110092Z",
     "start_time": "2024-03-05T10:29:56.104615Z"
    }
   },
   "id": "49595e77f9aab078",
   "execution_count": 14
  },
  {
   "cell_type": "code",
   "outputs": [],
   "source": [
    "for index, spec_link in enumerate(specialty_links, start=1):\n",
    "    main_response = requests.get(spec_link)\n",
    "    main_soup = BeautifulSoup(main_response.content, 'html.parser')\n",
    "    \n",
    "    course_links = [a['href'] for a in main_soup.select('td.title a') if 'course' in a['href']]\n",
    "    \n",
    "    course_details = []\n",
    "    for link in course_links:\n",
    "        details = extract_course_details(link)\n",
    "        details['course_link'] = link  # Add the course link to details\n",
    "        course_details.append(details)\n",
    "\n",
    "    # Use the index as part of the filename\n",
    "    filename = f\"specialty_{index}.json\"\n",
    "    \n",
    "    with open(filename, 'w', encoding='utf-8') as f:\n",
    "        json.dump(course_details, f, ensure_ascii=False, indent=4)"
   ],
   "metadata": {
    "collapsed": false,
    "ExecuteTime": {
     "end_time": "2024-03-05T10:48:49.329858Z",
     "start_time": "2024-03-05T10:45:36.594299Z"
    }
   },
   "id": "a7e52dad6cafa72e",
   "execution_count": 22
  },
  {
   "cell_type": "code",
   "outputs": [],
   "source": [
    "json_filenames = ['specialty_1.json', 'specialty_2.json', 'specialty_3.json', 'specialty_4.json','specialty_5.json', 'specialty_6.json', 'specialty_7.json']\n",
    "\n",
    "# Initialize a list or a set to store aggregated literature entries\n",
    "all_literature = list()\n",
    "\n",
    "# Iterate over each JSON file to extract literature\n",
    "for filename in json_filenames:\n",
    "    with open(filename, 'r', encoding='utf-8') as file:\n",
    "        data = json.load(file)\n",
    "        for course in data:  # Assuming each file may contain multiple courses\n",
    "            literature_entries = course.get('recommended_literature', [])\n",
    "            all_literature.append(literature_entries)  # Use update() for a set to add items"
   ],
   "metadata": {
    "collapsed": false,
    "ExecuteTime": {
     "end_time": "2024-03-05T10:58:15.892920Z",
     "start_time": "2024-03-05T10:58:15.845911Z"
    }
   },
   "id": "28d601dffd25ae65",
   "execution_count": 30
  },
  {
   "cell_type": "code",
   "outputs": [],
   "source": [
    "from langdetect import detect"
   ],
   "metadata": {
    "collapsed": false,
    "ExecuteTime": {
     "end_time": "2024-03-05T11:00:27.753496Z",
     "start_time": "2024-03-05T11:00:27.749259Z"
    }
   },
   "id": "99c4a47c492d3ee2",
   "execution_count": 34
  },
  {
   "cell_type": "code",
   "outputs": [],
   "source": [
    "moskowian_counts = 0\n",
    "Ukrainian_counts = 0\n",
    "entries = 0\n",
    "\n",
    "for sublist in all_literature:\n",
    "    for entry in sublist:\n",
    "        try:\n",
    "            lang = detect(entry)\n",
    "            if lang == 'uk':\n",
    "                Ukrainian_counts += 1\n",
    "            if lang == 'ru':\n",
    "                moskowian_counts += 1\n",
    "            entries += 1\n",
    "        except Exception as e:\n",
    "            continue\n"
   ],
   "metadata": {
    "collapsed": false,
    "ExecuteTime": {
     "end_time": "2024-03-05T11:16:52.806163Z",
     "start_time": "2024-03-05T11:16:20.359091Z"
    }
   },
   "id": "cc93404b96f62482",
   "execution_count": 59
  },
  {
   "cell_type": "code",
   "outputs": [
    {
     "name": "stdout",
     "output_type": "stream",
     "text": [
      "11376 1612\n",
      "Percentage of moscowian language on faculty of Culture and Arts: 11.52\n"
     ]
    }
   ],
   "source": [
    "print(Ukrainian_counts, moskowian_counts)\n",
    "print(f\"Percentage of moscowian language on faculty of Culture and Arts: {round(moskowian_counts/entries * 100, 2)}\")"
   ],
   "metadata": {
    "collapsed": false,
    "ExecuteTime": {
     "end_time": "2024-03-05T11:16:55.239255Z",
     "start_time": "2024-03-05T11:16:55.235537Z"
    }
   },
   "id": "e3db233e0d9904cc",
   "execution_count": 60
  },
  {
   "cell_type": "code",
   "outputs": [],
   "source": [],
   "metadata": {
    "collapsed": false
   },
   "id": "26d4aae7f0593185"
  }
 ],
 "metadata": {
  "kernelspec": {
   "display_name": "Python 3",
   "language": "python",
   "name": "python3"
  },
  "language_info": {
   "codemirror_mode": {
    "name": "ipython",
    "version": 2
   },
   "file_extension": ".py",
   "mimetype": "text/x-python",
   "name": "python",
   "nbconvert_exporter": "python",
   "pygments_lexer": "ipython2",
   "version": "2.7.6"
  }
 },
 "nbformat": 4,
 "nbformat_minor": 5
}
